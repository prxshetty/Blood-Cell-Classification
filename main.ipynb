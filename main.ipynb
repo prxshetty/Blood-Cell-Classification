{
 "cells": [
  {
   "cell_type": "code",
   "execution_count": 1,
   "id": "c985acf5",
   "metadata": {},
   "outputs": [],
   "source": [
    "import numpy as np\n",
    "import plotly.express as px\n",
    "import matplotlib.pyplot as plt\n",
    "import seaborn as sns\n",
    "import tensorflow as tf\n",
    "from sklearn.metrics import accuracy_score, classification_report"
   ]
  },
  {
   "cell_type": "code",
   "execution_count": 9,
   "id": "654231c9",
   "metadata": {},
   "outputs": [],
   "source": [
    "train_dir=\"D:\\ML Projects\\Blood-Cell-Classification\\dataset2-master\\images\\TRAIN\"\n",
    "test_dir=\"D:\\ML Projects\\Blood-Cell-Classification\\dataset2-master\\images\\TEST\""
   ]
  },
  {
   "cell_type": "code",
   "execution_count": 5,
   "id": "ddc54e87",
   "metadata": {},
   "outputs": [],
   "source": [
    "#generators as it prevents loading all the images onto the disk and loads a few of them and recyles the memor\n",
    "#here we create gneraetoirs\n",
    "\n",
    "\n",
    "train_gen=tf.keras.preprocessing.image.ImageDataGenerator(\n",
    "    preprocessing_function=tf.keras.applications.mobilenet_v2.preprocess_input,\n",
    "    validation_split=0.2\n",
    ")\n",
    "test_gen=tf.keras.preprocessing.image.ImageDataGenerator(\n",
    "    preprocessing_function=tf.keras.applications.mobilenet_v2.preprocess_input, \n",
    ")"
   ]
  },
  {
   "cell_type": "code",
   "execution_count": 10,
   "id": "4744cfcf",
   "metadata": {},
   "outputs": [
    {
     "name": "stdout",
     "output_type": "stream",
     "text": [
      "Found 7968 images belonging to 4 classes.\n",
      "Found 1989 images belonging to 4 classes.\n",
      "Found 2487 images belonging to 4 classes.\n"
     ]
    }
   ],
   "source": [
    "#flowing Image data here\n",
    "\n",
    "train_images=train_gen.flow_from_directory(\n",
    "    directory=train_dir,\n",
    "    target_size=(224, 244),\n",
    "    color_mode='rgb',\n",
    "    class_mode='categorical',\n",
    "    batch_size=32,\n",
    "    shuffle=True,#shuffing image order\n",
    "    seed=42,\n",
    "    subset='training'\n",
    ")\n",
    "val_images=train_gen.flow_from_directory(\n",
    "    directory=train_dir,\n",
    "    target_size=(224, 244),\n",
    "    color_mode='rgb',\n",
    "    class_mode='categorical',\n",
    "    batch_size=32,\n",
    "    shuffle=True,\n",
    "    seed=42,\n",
    "    subset='validation'\n",
    ")\n",
    "test_images=test_gen.flow_from_directory(\n",
    "    directory=test_dir,\n",
    "    target_size=(224, 244),\n",
    "    color_mode='rgb',\n",
    "    class_mode='categorical',\n",
    "    batch_size=32,\n",
    "    shuffle=False,#dont want to shuffle and it doesnt matter anyways\n",
    "    seed=42,\n",
    ")"
   ]
  },
  {
   "cell_type": "code",
   "execution_count": null,
   "id": "ab1f9851",
   "metadata": {},
   "outputs": [],
   "source": [
    "trai_images.next()[1]"
   ]
  },
  {
   "cell_type": "code",
   "execution_count": null,
   "id": "d781aab7",
   "metadata": {},
   "outputs": [],
   "source": [
    "#Build a pretrained Model\n",
    "pretrained_model=tf.keras.applications.mobilenet_v2.MobileNetV2(\n",
    "    input_shape=(224,224,3),\n",
    "    include_top=False,#removes the classification aspect\n",
    "    weights='imagenet',\n",
    "    pooling='avg',#reduces the op from 2d to 1d \n",
    ")\n",
    "\n",
    "pretrained_model.trainable = False\n"
   ]
  },
  {
   "cell_type": "code",
   "execution_count": 1,
   "id": "a3514d81",
   "metadata": {},
   "outputs": [
    {
     "ename": "NameError",
     "evalue": "name 'pretrained_model' is not defined",
     "output_type": "error",
     "traceback": [
      "\u001b[1;31m---------------------------------------------------------------------------\u001b[0m",
      "\u001b[1;31mNameError\u001b[0m                                 Traceback (most recent call last)",
      "Cell \u001b[1;32mIn[1], line 2\u001b[0m\n\u001b[0;32m      1\u001b[0m \u001b[38;5;66;03m#Classifictiaon Model\u001b[39;00m\n\u001b[1;32m----> 2\u001b[0m inputs\u001b[38;5;241m=\u001b[39m \u001b[43mpretrained_model\u001b[49m\u001b[38;5;241m.\u001b[39minput\n\u001b[0;32m      3\u001b[0m X \u001b[38;5;241m=\u001b[39m tf\u001b[38;5;241m.\u001b[39mkeras\u001b[38;5;241m.\u001b[39mlayers\u001b[38;5;241m.\u001b[39mDense(\u001b[38;5;241m128\u001b[39m, activation\u001b[38;5;241m=\u001b[39m\u001b[38;5;124m'\u001b[39m\u001b[38;5;124mrelu\u001b[39m\u001b[38;5;124m'\u001b[39m)(pretrained_model\u001b[38;5;241m.\u001b[39moutput)\n\u001b[0;32m      4\u001b[0m outputs \u001b[38;5;241m=\u001b[39m tf\u001b[38;5;241m.\u001b[39mkeras\u001b[38;5;241m.\u001b[39mlayers\u001b[38;5;241m.\u001b[39mDense(\u001b[38;5;241m4\u001b[39m, activatation\u001b[38;5;241m=\u001b[39m\u001b[38;5;124m'\u001b[39m\u001b[38;5;124msoftmax\u001b[39m\u001b[38;5;124m'\u001b[39m)(x)\n",
      "\u001b[1;31mNameError\u001b[0m: name 'pretrained_model' is not defined"
     ]
    }
   ],
   "source": [
    "#Classification Model\n",
    "inputs= pretrained_model.input\n",
    "X = tf.keras.layers.Dense(128, activation='relu')(pretrained_model.output)\n",
    "outputs = tf.keras.layers.Dense(4, activatation='softmax')(x)\n",
    "\n",
    "model=tf.keras.Model(inputs=intputs, outputs=outputs)\n",
    "\n",
    "model.compile(\n",
    "    optimizer='adam',\n",
    "    loss='categorical_crossentropy',#since the values in vector and not an integer so there wont be a sparse \n",
    "    metrics=['accuracy']\n",
    ")\n",
    "\n",
    "print(model.summary())"
   ]
  },
  {
   "cell_type": "code",
   "execution_count": null,
   "id": "0e85d03c",
   "metadata": {},
   "outputs": [],
   "source": [
    "out"
   ]
  }
 ],
 "metadata": {
  "kernelspec": {
   "display_name": "Python 3 (ipykernel)",
   "language": "python",
   "name": "python3"
  },
  "language_info": {
   "codemirror_mode": {
    "name": "ipython",
    "version": 3
   },
   "file_extension": ".py",
   "mimetype": "text/x-python",
   "name": "python",
   "nbconvert_exporter": "python",
   "pygments_lexer": "ipython3",
   "version": "3.11.4"
  }
 },
 "nbformat": 4,
 "nbformat_minor": 5
}
