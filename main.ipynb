{
 "cells": [
  {
   "cell_type": "code",
   "execution_count": 3,
   "id": "c985acf5",
   "metadata": {},
   "outputs": [],
   "source": [
    "import numpy as np\n",
    "import plotly.express as px\n",
    "import matplotlib.pyplot as plt\n",
    "import seaborn as sns\n",
    "import tensorflow as tf\n",
    "from sklearn.metrics import accuracy_score, classification_report"
   ]
  },
  {
   "cell_type": "code",
   "execution_count": 4,
   "id": "654231c9",
   "metadata": {},
   "outputs": [],
   "source": [
    "train_dir=\"D:\\ML Projects\\Blood-Cell-Classification\\dataset2-master\\images\\TRAIN\"\n",
    "teset_dir=\"D:\\ML Projects\\Blood-Cell-Classification\\dataset2-master\\images\\TEST\""
   ]
  },
  {
   "cell_type": "code",
   "execution_count": 4,
   "id": "ddc54e87",
   "metadata": {},
   "outputs": [
    {
     "ename": "NameError",
     "evalue": "name 'keras' is not defined",
     "output_type": "error",
     "traceback": [
      "\u001b[1;31m---------------------------------------------------------------------------\u001b[0m",
      "\u001b[1;31mNameError\u001b[0m                                 Traceback (most recent call last)",
      "Cell \u001b[1;32mIn[4], line 5\u001b[0m\n\u001b[0;32m      1\u001b[0m \u001b[38;5;66;03m#generators as it prevents loading all the images onto the disk and loads a few of them and recyles the memor\u001b[39;00m\n\u001b[0;32m      2\u001b[0m \u001b[38;5;66;03m#here we create gneraetoirs\u001b[39;00m\n\u001b[1;32m----> 5\u001b[0m train_gen\u001b[38;5;241m=\u001b[39mkeras\u001b[38;5;241m.\u001b[39mpreprocessing\u001b[38;5;241m.\u001b[39mimage\u001b[38;5;241m.\u001b[39mImageDataGenerator(\n\u001b[0;32m      6\u001b[0m     preprocessing_function\u001b[38;5;241m=\u001b[39mtf\u001b[38;5;241m.\u001b[39mkeras\u001b[38;5;241m.\u001b[39mapplications\u001b[38;5;241m.\u001b[39mmobilenet_v2\u001b[38;5;241m.\u001b[39mpreprocess_input,\n\u001b[0;32m      7\u001b[0m     validation_split\u001b[38;5;241m=\u001b[39m\u001b[38;5;241m0.2\u001b[39m\n\u001b[0;32m      8\u001b[0m )\n\u001b[0;32m      9\u001b[0m test_gen\u001b[38;5;241m=\u001b[39mkeras\u001b[38;5;241m.\u001b[39mpreprocessing\u001b[38;5;241m.\u001b[39mimage\u001b[38;5;241m.\u001b[39mImageDataGenerator(\n\u001b[0;32m     10\u001b[0m     preprocessing_function\u001b[38;5;241m=\u001b[39mtf\u001b[38;5;241m.\u001b[39mkeras\u001b[38;5;241m.\u001b[39mapplications\u001b[38;5;241m.\u001b[39mmobilenet_v2\u001b[38;5;241m.\u001b[39mpreprocess_input, \n\u001b[0;32m     11\u001b[0m )\n",
      "\u001b[1;31mNameError\u001b[0m: name 'keras' is not defined"
     ]
    }
   ],
   "source": [
    "#generators as it prevents loading all the images onto the disk and loads a few of them and recyles the memor\n",
    "#here we create gneraetoirs\n",
    "\n",
    "\n",
    "train_gen=keras.preprocessing.image.ImageDataGenerator(\n",
    "    preprocessing_function=tf.keras.applications.mobilenet_v2.preprocess_input,\n",
    "    validation_split=0.2\n",
    ")\n",
    "test_gen=keras.preprocessing.image.ImageDataGenerator(\n",
    "    preprocessing_function=tf.keras.applications.mobilenet_v2.preprocess_input, \n",
    ")"
   ]
  },
  {
   "cell_type": "code",
   "execution_count": null,
   "id": "4744cfcf",
   "metadata": {},
   "outputs": [],
   "source": [
    "#flowing Image data here\n",
    "\n",
    "train_images=train_gen.flow_from_directory(\n",
    "    directory=train_dir\n",
    "    target_size=(224, 244),\n",
    "    color_mode='rgb',\n",
    "    class_mode='categorical',\n",
    "    batch_mode=32,\n",
    "    shuffle=True,\n",
    "    seed=42,\n",
    "    subset='training'\n",
    ")\n",
    "val_images=train_gen.flow_from_directory(\n",
    "    directory=train_dir\n",
    "    target_size=(224, 244),\n",
    "    color_mode='rgb',\n",
    "    class_mode='categorical',\n",
    "    batch_mode=32,\n",
    "    shuffle=True,\n",
    "    seed=42,\n",
    "    subset='validation'\n",
    ")\n",
    "test_images=test_gen.flow_from_directory(\n",
    "    directory=test_dir\n",
    "    target_size=(224, 244),\n",
    "    color_mode='rgb',\n",
    "    class_mode='categorical',\n",
    "    batch_mode=32,\n",
    "    shuffle=False,\n",
    "    seed=42,\n",
    ")"
   ]
  }
 ],
 "metadata": {
  "kernelspec": {
   "display_name": "Python 3 (ipykernel)",
   "language": "python",
   "name": "python3"
  },
  "language_info": {
   "codemirror_mode": {
    "name": "ipython",
    "version": 3
   },
   "file_extension": ".py",
   "mimetype": "text/x-python",
   "name": "python",
   "nbconvert_exporter": "python",
   "pygments_lexer": "ipython3",
   "version": "3.11.4"
  }
 },
 "nbformat": 4,
 "nbformat_minor": 5
}
