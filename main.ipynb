{
 "cells": [
  {
   "cell_type": "code",
   "execution_count": 3,
   "id": "c985acf5",
   "metadata": {},
   "outputs": [],
   "source": [
    "import numpy as np\n",
    "import plotly.express as px\n",
    "import matplotlib.pyplot as plt\n",
    "import seaborn as sns\n",
    "import tensorflow as tf\n",
    "from sklearn.metrics import accuracy_score, classification_report"
   ]
  },
  {
   "cell_type": "code",
   "execution_count": 4,
   "id": "654231c9",
   "metadata": {},
   "outputs": [],
   "source": [
    "train_dir=\"D:\\ML Projects\\Blood-Cell-Classification\\dataset2-master\\images\\TRAIN\"\n",
    "teset_dir=\"D:\\ML Projects\\Blood-Cell-Classification\\dataset2-master\\images\\TEST\""
   ]
  },
  {
   "cell_type": "code",
   "execution_count": null,
   "id": "ddc54e87",
   "metadata": {},
   "outputs": [],
   "source": [
    "#generators as it prevents loading all the images onto the disk and loads a few of them and recyles the memor\n",
    "#here we create gneraetoirs\n",
    "\n",
    "\n",
    "train_gen=keras.preprocessing.image.ImageDataGenerator(\n",
    "\n",
    ")\n",
    "test_gen=keras.preprocessing.image.ImageDataGenerator(\n",
    "\n",
    ")"
   ]
  }
 ],
 "metadata": {
  "kernelspec": {
   "display_name": "Python 3 (ipykernel)",
   "language": "python",
   "name": "python3"
  },
  "language_info": {
   "codemirror_mode": {
    "name": "ipython",
    "version": 3
   },
   "file_extension": ".py",
   "mimetype": "text/x-python",
   "name": "python",
   "nbconvert_exporter": "python",
   "pygments_lexer": "ipython3",
   "version": "3.11.4"
  }
 },
 "nbformat": 4,
 "nbformat_minor": 5
}
