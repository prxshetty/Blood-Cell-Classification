{
 "cells": [
  {
   "cell_type": "code",
   "execution_count": 1,
   "id": "c985acf5",
   "metadata": {},
   "outputs": [],
   "source": [
    "import numpy as np\n",
    "import plotly.express as px\n",
    "import matplotlib.pyplot as plt\n",
    "import seaborn as sns\n",
    "import tensorflow as tf\n",
    "from sklearn.metrics import accuracy_score, classification_report"
   ]
  },
  {
   "cell_type": "code",
   "execution_count": 9,
   "id": "654231c9",
   "metadata": {},
   "outputs": [],
   "source": [
    "train_dir=\"D:\\ML Projects\\Blood-Cell-Classification\\dataset2-master\\images\\TRAIN\"\n",
    "test_dir=\"D:\\ML Projects\\Blood-Cell-Classification\\dataset2-master\\images\\TEST\""
   ]
  },
  {
   "cell_type": "code",
   "execution_count": 5,
   "id": "ddc54e87",
   "metadata": {},
   "outputs": [],
   "source": [
    "#generators as it prevents loading all the images onto the disk and loads a few of them and recyles the memor\n",
    "#here we create gneraetoirs\n",
    "\n",
    "\n",
    "train_gen=tf.keras.preprocessing.image.ImageDataGenerator(\n",
    "    preprocessing_function=tf.keras.applications.mobilenet_v2.preprocess_input,\n",
    "    validation_split=0.2\n",
    ")\n",
    "test_gen=tf.keras.preprocessing.image.ImageDataGenerator(\n",
    "    preprocessing_function=tf.keras.applications.mobilenet_v2.preprocess_input, \n",
    ")"
   ]
  },
  {
   "cell_type": "code",
   "execution_count": 10,
   "id": "4744cfcf",
   "metadata": {},
   "outputs": [
    {
     "name": "stdout",
     "output_type": "stream",
     "text": [
      "Found 7968 images belonging to 4 classes.\n",
      "Found 1989 images belonging to 4 classes.\n",
      "Found 2487 images belonging to 4 classes.\n"
     ]
    }
   ],
   "source": [
    "#flowing Image data here\n",
    "\n",
    "train_images=train_gen.flow_from_directory(\n",
    "    directory=train_dir,\n",
    "    target_size=(224, 244),\n",
    "    color_mode='rgb',\n",
    "    class_mode='categorical',\n",
    "    batch_size=32,\n",
    "    shuffle=True,#shuffing image order\n",
    "    seed=42,\n",
    "    subset='training'\n",
    ")\n",
    "val_images=train_gen.flow_from_directory(\n",
    "    directory=train_dir,\n",
    "    target_size=(224, 244),\n",
    "    color_mode='rgb',\n",
    "    class_mode='categorical',\n",
    "    batch_size=32,\n",
    "    shuffle=True,\n",
    "    seed=42,\n",
    "    subset='validation'\n",
    ")\n",
    "test_images=test_gen.flow_from_directory(\n",
    "    directory=test_dir,\n",
    "    target_size=(224, 244),\n",
    "    color_mode='rgb',\n",
    "    class_mode='categorical',\n",
    "    batch_size=32,\n",
    "    shuffle=False,#dont want to shuffle and it doesnt matter anyways\n",
    "    seed=42,\n",
    ")"
   ]
  },
  {
   "cell_type": "code",
   "execution_count": null,
   "id": "d781aab7",
   "metadata": {},
   "outputs": [],
   "source": [
    "#Build a pretrained Model\n",
    "pretrained_model=tf.keras.applications.mobilenet_v2.MobileNetV2(\n",
    "    input_shape=(224,224,3),\n",
    "    include_top=False,#removes the classification aspect\n",
    "    weights='imagenet',\n",
    "    pooling='avg',#reduces the op from 2d to 1d \n",
    ")\n",
    "\n",
    "pretrained_model.trainable = False\n"
   ]
  },
  {
   "cell_type": "code",
   "execution_count": null,
   "id": "a3514d81",
   "metadata": {},
   "outputs": [],
   "source": [
    "#Classifictiaon Model\n"
   ]
  }
 ],
 "metadata": {
  "kernelspec": {
   "display_name": "Python 3 (ipykernel)",
   "language": "python",
   "name": "python3"
  },
  "language_info": {
   "codemirror_mode": {
    "name": "ipython",
    "version": 3
   },
   "file_extension": ".py",
   "mimetype": "text/x-python",
   "name": "python",
   "nbconvert_exporter": "python",
   "pygments_lexer": "ipython3",
   "version": "3.11.4"
  }
 },
 "nbformat": 4,
 "nbformat_minor": 5
}
